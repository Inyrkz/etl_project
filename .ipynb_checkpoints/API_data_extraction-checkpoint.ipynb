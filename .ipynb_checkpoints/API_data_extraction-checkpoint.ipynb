{
 "cells": [
  {
   "cell_type": "markdown",
   "metadata": {},
   "source": [
    "# Data Engineering - Extract API Data\n",
    "\n",
    "Extract data from the Exchange Rate Data API"
   ]
  },
  {
   "cell_type": "markdown",
   "metadata": {},
   "source": [
    "## Objectives\n",
    "\n",
    "*   Collect exchange rate data using an API\n",
    "*   Store the data as a CSV\n"
   ]
  },
  {
   "cell_type": "markdown",
   "metadata": {},
   "source": [
    "## Imports\n",
    "\n",
    "Importing libraries here.\n"
   ]
  },
  {
   "cell_type": "code",
   "execution_count": 15,
   "metadata": {},
   "outputs": [],
   "source": [
    "import requests\n",
    "import pandas as pd\n",
    "import json"
   ]
  },
  {
   "cell_type": "markdown",
   "metadata": {},
   "source": [
    "## Extract Data Using an API\n"
   ]
  },
  {
   "cell_type": "markdown",
   "metadata": {},
   "source": [
    "Using ExchangeRate-API we will extract currency exchange rate data. Use the below steps to get the access key and to get the data.\n",
    "\n",
    "1.  Open the url : [https://exchangeratesapi.io/](https://exchangeratesapi.io/?utm_medium=Exinfluencer&utm_source=Exinfluencer&utm_content=000026UJ&utm_term=10006555&utm_id=NA-SkillsNetwork-Channel-SkillsNetworkCoursesIBMDeveloperSkillsNetworkPY0221ENSkillsNetwork23455645-2022-01-01) and click on **Get Free API Key**.\n",
    "2.  Subscribe for Free plan and Sign-in with the Google Account.\n",
    "3.  Once the account is created you will be redirected to [https://apilayer.com](https://apilayer.com/?utm_medium=Exinfluencer&utm_source=Exinfluencer&utm_content=000026UJ&utm_term=10006555&utm_id=NA-SkillsNetwork-Channel-SkillsNetworkCoursesIBMDeveloperSkillsNetworkPY0221ENSkillsNetwork23455645-2022-01-01) website.\n",
    "4.  Now, click on the **user icon** and click **Account** as shown below:\n",
    "\n",
    "<img src=\"https://cf-courses-data.s3.us.cloud-object-storage.appdomain.cloud/IBMDeveloperSkillsNetwork-PY0221EN-SkillsNetwork/labs/module%206/Final%20Assignment/Images/account.png\"/>\n",
    "\n",
    "3.  Scroll down and you will get the API Key section. Copy the API key and use in the url in Question 1.\n"
   ]
  },
  {
   "cell_type": "markdown",
   "metadata": {},
   "source": [
    "### Call the API\n",
    "\n",
    "Using the `requests` to library call the endpoint above and save the text."
   ]
  },
  {
   "cell_type": "code",
   "execution_count": 14,
   "metadata": {},
   "outputs": [
    {
     "name": "stdout",
     "output_type": "stream",
     "text": [
      "b'{\\n    \"success\": true,\\n    \"timestamp\": 1678708803,\\n    \"base\": \"EUR\",\\n    \"date\": \"2023-03-13\",\\n    \"rates\": {\\n        \"AED\": 3.916492,\\n        \"AFN\": 93.17652,\\n        \"ALL\": 114.078371,\\n        \"AMD\": 411.56157,\\n        \"ANG\": 1.907646,\\n        \"AOA\": 541.190022,\\n        \"ARS\": 213.965893,\\n        \"AUD\": 1.606707,\\n        \"AWG\": 1.922154,\\n        \"AZN\": 1.811136,\\n        \"BAM\": 1.959903,\\n        \"BBD\": 2.137143,\\n        \"BDT\": 111.864179,\\n        \"BGN\": 1.954023,\\n        \"BHD\": 0.401881,\\n        \"BIF\": 2200.734963,\\n        \"BMD\": 1.066382,\\n        \"BND\": 1.434098,\\n        \"BOB\": 7.33235,\\n        \"BRL\": 5.565239,\\n        \"BSD\": 1.058426,\\n        \"BTC\": 4.8116515e-05,\\n        \"BTN\": 87.030792,\\n        \"BWP\": 14.075696,\\n        \"BYN\": 2.671716,\\n        \"BYR\": 20901.094731,\\n        \"BZD\": 2.133554,\\n        \"CAD\": 1.470237,\\n        \"CDF\": 2187.150504,\\n        \"CHF\": 0.975036,\\n        \"CLF\": 0.030751,\\n        \"CLP\": 848.509758,\\n        \"CNY\": 7.328394,\\n        \"COP\": 5026.595981,\\n        \"CRC\": 580.231962,\\n        \"CUC\": 1.066382,\\n        \"CUP\": 28.259133,\\n        \"CVE\": 110.491305,\\n        \"CZK\": 23.725462,\\n        \"DJF\": 188.465589,\\n        \"DKK\": 7.444064,\\n        \"DOP\": 58.403021,\\n        \"DZD\": 145.123597,\\n        \"EGP\": 33.004639,\\n        \"ERN\": 15.995736,\\n        \"ETB\": 56.939698,\\n        \"EUR\": 1,\\n        \"FJD\": 2.369288,\\n        \"FKP\": 0.886074,\\n        \"GBP\": 0.882946,\\n        \"GEL\": 2.751501,\\n        \"GGP\": 0.886074,\\n        \"GHS\": 13.105435,\\n        \"GIP\": 0.886074,\\n        \"GMD\": 65.316359,\\n        \"GNF\": 9113.003887,\\n        \"GTQ\": 8.287349,\\n        \"GYD\": 223.908735,\\n        \"HKD\": 8.363856,\\n        \"HNL\": 26.103309,\\n        \"HRK\": 7.530099,\\n        \"HTG\": 162.440292,\\n        \"HUF\": 388.440534,\\n        \"IDR\": 16450.707808,\\n        \"ILS\": 3.867651,\\n        \"IMP\": 0.886074,\\n        \"INR\": 87.721202,\\n        \"IQD\": 1548.742165,\\n        \"IRR\": 45081.315491,\\n        \"ISK\": 150.690805,\\n        \"JEP\": 0.886074,\\n        \"JMD\": 161.91748,\\n        \"JOD\": 0.757339,\\n        \"JPY\": 141.990928,\\n        \"KES\": 138.091571,\\n        \"KGS\": 93.222738,\\n        \"KHR\": 4283.16197,\\n        \"KMF\": 492.508615,\\n        \"KPW\": 959.744146,\\n        \"KRW\": 1392.839317,\\n        \"KWD\": 0.327027,\\n        \"KYD\": 0.882113,\\n        \"KZT\": 478.540157,\\n        \"LAK\": 17859.252337,\\n        \"LBP\": 15887.758619,\\n        \"LKR\": 344.025916,\\n        \"LRD\": 171.15798,\\n        \"LSL\": 19.456138,\\n        \"LTL\": 3.14875,\\n        \"LVL\": 0.645044,\\n        \"LYD\": 5.1347,\\n        \"MAD\": 11.026283,\\n        \"MDL\": 19.845925,\\n        \"MGA\": 4553.960353,\\n        \"MKD\": 61.602429,\\n        \"MMK\": 2222.804441,\\n        \"MNT\": 3766.500838,\\n        \"MOP\": 8.579861,\\n        \"MRO\": 380.698328,\\n        \"MUR\": 50.280183,\\n        \"MVR\": 16.379804,\\n        \"MWK\": 1076.517845,\\n        \"MXN\": 19.967369,\\n        \"MYR\": 4.795525,\\n        \"MZN\": 67.288278,\\n        \"NAD\": 19.573405,\\n        \"NGN\": 491.090402,\\n        \"NIO\": 38.713387,\\n        \"NOK\": 11.357249,\\n        \"NPR\": 138.893838,\\n        \"NZD\": 1.723908,\\n        \"OMR\": 0.410512,\\n        \"PAB\": 1.061222,\\n        \"PEN\": 4.016308,\\n        \"PGK\": 3.730259,\\n        \"PHP\": 58.653699,\\n        \"PKR\": 297.082941,\\n        \"PLN\": 4.694706,\\n        \"PYG\": 7619.587308,\\n        \"QAR\": 3.882727,\\n        \"RON\": 4.916908,\\n        \"RSD\": 117.329113,\\n        \"RUB\": 80.202868,\\n        \"RWF\": 1156.182164,\\n        \"SAR\": 4.003431,\\n        \"SBD\": 8.743189,\\n        \"SCR\": 13.942024,\\n        \"SDG\": 633.43115,\\n        \"SEK\": 11.422085,\\n        \"SGD\": 1.436348,\\n        \"SHP\": 1.29752,\\n        \"SLE\": 21.764772,\\n        \"SLL\": 21061.051925,\\n        \"SOS\": 607.299236,\\n        \"SRD\": 36.765701,\\n        \"STD\": 22071.962337,\\n        \"SVC\": 9.261895,\\n        \"SYP\": 2679.319522,\\n        \"SZL\": 19.400311,\\n        \"THB\": 36.892029,\\n        \"TJS\": 11.587958,\\n        \"TMT\": 3.743002,\\n        \"TND\": 3.329254,\\n        \"TOP\": 2.526233,\\n        \"TRY\": 20.233294,\\n        \"TTD\": 7.193845,\\n        \"TWD\": 32.635583,\\n        \"TZS\": 2476.790764,\\n        \"UAH\": 39.067003,\\n        \"UGX\": 3944.256979,\\n        \"USD\": 1.066382,\\n        \"UYU\": 41.577038,\\n        \"UZS\": 12087.303781,\\n        \"VEF\": 2567843.281436,\\n        \"VES\": 25.704997,\\n        \"VND\": 25153.294489,\\n        \"VUV\": 127.314676,\\n        \"WST\": 2.972884,\\n        \"XAF\": 655.70632,\\n        \"XAG\": 0.050568,\\n        \"XAU\": 0.000564,\\n        \"XCD\": 2.881951,\\n        \"XDR\": 0.795844,\\n        \"XOF\": 655.70632,\\n        \"XPF\": 119.701544,\\n        \"YER\": 266.942201,\\n        \"ZAR\": 19.405632,\\n        \"ZMK\": 9598.721207,\\n        \"ZMW\": 21.381424,\\n        \"ZWL\": 343.374693\\n    }\\n}\\n'\n"
     ]
    }
   ],
   "source": [
    "# Rememeber to replace XXXXXXX with the actual API key\n",
    "url = \"https://api.apilayer.com/exchangerates_data/latest?base=EUR&apikey=XXXXXXX\"\n",
    "\n",
    "\n",
    "r = requests.get(url)\n",
    "print(r.content)"
   ]
  },
  {
   "cell_type": "markdown",
   "metadata": {},
   "source": [
    "### Save as DataFrame\n",
    "\n",
    "Using the data gathered turn it into a `pandas` dataframe. The dataframe should have the `Currency` as the index and `Rate` as their columns. Drop unnecessary columns."
   ]
  },
  {
   "cell_type": "code",
   "execution_count": 21,
   "metadata": {},
   "outputs": [],
   "source": [
    "# Parse data to JSON\n",
    "data = json.loads(r.content)\n",
    "# Turn the data into a dataframe\n",
    "df = pd.DataFrame(data)"
   ]
  },
  {
   "cell_type": "code",
   "execution_count": 22,
   "metadata": {},
   "outputs": [
    {
     "data": {
      "text/html": [
       "<div>\n",
       "<style scoped>\n",
       "    .dataframe tbody tr th:only-of-type {\n",
       "        vertical-align: middle;\n",
       "    }\n",
       "\n",
       "    .dataframe tbody tr th {\n",
       "        vertical-align: top;\n",
       "    }\n",
       "\n",
       "    .dataframe thead th {\n",
       "        text-align: right;\n",
       "    }\n",
       "</style>\n",
       "<table border=\"1\" class=\"dataframe\">\n",
       "  <thead>\n",
       "    <tr style=\"text-align: right;\">\n",
       "      <th></th>\n",
       "      <th>rates</th>\n",
       "    </tr>\n",
       "  </thead>\n",
       "  <tbody>\n",
       "    <tr>\n",
       "      <th>AED</th>\n",
       "      <td>3.916492</td>\n",
       "    </tr>\n",
       "    <tr>\n",
       "      <th>AFN</th>\n",
       "      <td>93.176520</td>\n",
       "    </tr>\n",
       "    <tr>\n",
       "      <th>ALL</th>\n",
       "      <td>114.078371</td>\n",
       "    </tr>\n",
       "    <tr>\n",
       "      <th>AMD</th>\n",
       "      <td>411.561570</td>\n",
       "    </tr>\n",
       "    <tr>\n",
       "      <th>ANG</th>\n",
       "      <td>1.907646</td>\n",
       "    </tr>\n",
       "  </tbody>\n",
       "</table>\n",
       "</div>"
      ],
      "text/plain": [
       "          rates\n",
       "AED    3.916492\n",
       "AFN   93.176520\n",
       "ALL  114.078371\n",
       "AMD  411.561570\n",
       "ANG    1.907646"
      ]
     },
     "execution_count": 22,
     "metadata": {},
     "output_type": "execute_result"
    }
   ],
   "source": [
    "# Drop unnescessary columns\n",
    "# df.drop(['success', 'timestamp', 'base', 'date'], axis=1, inplace=True)\n",
    "df = df[['rates']]\n",
    "df.head()"
   ]
  },
  {
   "cell_type": "markdown",
   "metadata": {},
   "source": [
    "### Load the Data\n",
    "\n",
    "Save the DataFrame as a CSV file `exchange_rates_1.csv`.\n"
   ]
  },
  {
   "cell_type": "code",
   "execution_count": 23,
   "metadata": {},
   "outputs": [],
   "source": [
    "# Save the Dataframe\n",
    "df.to_csv('exchange_rates_1.csv')"
   ]
  },
  {
   "cell_type": "markdown",
   "metadata": {},
   "source": [
    "Copyright © 2020 IBM Corporation. This notebook and its source code are released under the terms of the [MIT License](https://cognitiveclass.ai/mit-license?utm_medium=Exinfluencer&utm_source=Exinfluencer&utm_content=000026UJ&utm_term=10006555&utm_id=NA-SkillsNetwork-Channel-SkillsNetworkCoursesIBMDeveloperSkillsNetworkPY0221ENSkillsNetwork23455645-2022-01-01&cm_mmc=Email_Newsletter-\\_-Developer_Ed%2BTech-\\_-WW_WW-\\_-SkillsNetwork-Courses-IBM-DA0321EN-SkillsNetwork-21426264&cm_mmca1=000026UJ&cm_mmca2=10006555&cm_mmca3=M12345678&cvosrc=email.Newsletter.M12345678&cvo_campaign=000026UJ).\n"
   ]
  }
 ],
 "metadata": {
  "kernelspec": {
   "display_name": "Python 3 (ipykernel)",
   "language": "python",
   "name": "python3"
  },
  "language_info": {
   "codemirror_mode": {
    "name": "ipython",
    "version": 3
   },
   "file_extension": ".py",
   "mimetype": "text/x-python",
   "name": "python",
   "nbconvert_exporter": "python",
   "pygments_lexer": "ipython3",
   "version": "3.9.7"
  }
 },
 "nbformat": 4,
 "nbformat_minor": 4
}
