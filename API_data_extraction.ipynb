{
 "cells": [
  {
   "cell_type": "markdown",
   "metadata": {},
   "source": [
    "# Data Engineering - Extract API Data\n",
    "\n",
    "Extract data from the Exchange Rate Data API"
   ]
  },
  {
   "cell_type": "markdown",
   "metadata": {},
   "source": [
    "## Objectives\n",
    "\n",
    "*   Collect exchange rate data using an API\n",
    "*   Store the data as a CSV\n"
   ]
  },
  {
   "cell_type": "markdown",
   "metadata": {},
   "source": [
    "## Imports\n",
    "\n",
    "Importing libraries here.\n"
   ]
  },
  {
   "cell_type": "code",
   "execution_count": 1,
   "metadata": {},
   "outputs": [],
   "source": [
    "import requests\n",
    "import pandas as pd\n",
    "import json"
   ]
  },
  {
   "cell_type": "markdown",
   "metadata": {},
   "source": [
    "## Extract Data Using an API\n"
   ]
  },
  {
   "cell_type": "markdown",
   "metadata": {},
   "source": [
    "Using ExchangeRate-API we will extract currency exchange rate data. Use the below steps to get the access key and to get the data.\n",
    "\n",
    "1.  Open the url : [https://exchangeratesapi.io/](https://exchangeratesapi.io/?utm_medium=Exinfluencer&utm_source=Exinfluencer&utm_content=000026UJ&utm_term=10006555&utm_id=NA-SkillsNetwork-Channel-SkillsNetworkCoursesIBMDeveloperSkillsNetworkPY0221ENSkillsNetwork23455645-2022-01-01) and click on **Get Free API Key**.\n",
    "2.  Subscribe for Free plan and Sign-in with the Google Account.\n",
    "3.  Once the account is created you will be redirected to [https://apilayer.com](https://apilayer.com/?utm_medium=Exinfluencer&utm_source=Exinfluencer&utm_content=000026UJ&utm_term=10006555&utm_id=NA-SkillsNetwork-Channel-SkillsNetworkCoursesIBMDeveloperSkillsNetworkPY0221ENSkillsNetwork23455645-2022-01-01) website.\n",
    "4.  Now, click on the **user icon** and click **Account** as shown below:\n",
    "\n",
    "<img src=\"https://cf-courses-data.s3.us.cloud-object-storage.appdomain.cloud/IBMDeveloperSkillsNetwork-PY0221EN-SkillsNetwork/labs/module%206/Final%20Assignment/Images/account.png\"/>\n",
    "\n",
    "3.  Scroll down and you will get the API Key section. Copy the API key and use in the url.\n"
   ]
  },
  {
   "cell_type": "markdown",
   "metadata": {},
   "source": [
    "### Call the API\n",
    "\n",
    "Using the `requests` to library call the endpoint above and save the text."
   ]
  },
  {
   "cell_type": "code",
   "execution_count": 9,
   "metadata": {},
   "outputs": [
    {
     "name": "stdout",
     "output_type": "stream",
     "text": [
      "b'{\\n    \"success\": true,\\n    \"timestamp\": 1678792863,\\n    \"base\": \"EUR\",\\n    \"date\": \"2023-03-14\",\\n    \"rates\": {\\n        \"AED\": 3.936982,\\n        \"AFN\": 94.122617,\\n        \"ALL\": 114.077684,\\n        \"AMD\": 414.823669,\\n        \"ANG\": 1.923847,\\n        \"AOA\": 542.938588,\\n        \"ARS\": 215.095409,\\n        \"AUD\": 1.608964,\\n        \"AWG\": 1.92951,\\n        \"AZN\": 1.827392,\\n        \"BAM\": 1.957818,\\n        \"BBD\": 2.138824,\\n        \"BDT\": 112.596047,\\n        \"BGN\": 1.955985,\\n        \"BHD\": 0.404115,\\n        \"BIF\": 2218.382906,\\n        \"BMD\": 1.07195,\\n        \"BND\": 1.438015,\\n        \"BOB\": 7.381608,\\n        \"BRL\": 5.624626,\\n        \"BSD\": 1.067595,\\n        \"BTC\": 4.3290195e-05,\\n        \"BTN\": 87.645832,\\n        \"BWP\": 14.101402,\\n        \"BYN\": 2.694502,\\n        \"BYR\": 21010.216218,\\n        \"BZD\": 2.140326,\\n        \"CAD\": 1.46967,\\n        \"CDF\": 2197.497029,\\n        \"CHF\": 0.977052,\\n        \"CLF\": 0.031183,\\n        \"CLP\": 860.432771,\\n        \"CNY\": 7.371047,\\n        \"COP\": 5108.376805,\\n        \"CRC\": 584.975621,\\n        \"CUC\": 1.07195,\\n        \"CUP\": 28.40667,\\n        \"CVE\": 110.372726,\\n        \"CZK\": 23.793035,\\n        \"DJF\": 190.014066,\\n        \"DKK\": 7.444606,\\n        \"DOP\": 58.587651,\\n        \"DZD\": 145.803395,\\n        \"EGP\": 33.121751,\\n        \"ERN\": 16.079247,\\n        \"ETB\": 57.432457,\\n        \"EUR\": 1,\\n        \"FJD\": 2.376946,\\n        \"FKP\": 0.881838,\\n        \"GBP\": 0.881668,\\n        \"GEL\": 2.765733,\\n        \"GGP\": 0.881838,\\n        \"GHS\": 13.13041,\\n        \"GIP\": 0.881838,\\n        \"GMD\": 65.871258,\\n        \"GNF\": 9186.039135,\\n        \"GTQ\": 8.333511,\\n        \"GYD\": 225.139941,\\n        \"HKD\": 8.41136,\\n        \"HNL\": 26.307869,\\n        \"HRK\": 7.523237,\\n        \"HTG\": 164.151526,\\n        \"HUF\": 392.912806,\\n        \"IDR\": 16485.891265,\\n        \"ILS\": 3.890406,\\n        \"IMP\": 0.881838,\\n        \"INR\": 88.368329,\\n        \"IQD\": 1557.991212,\\n        \"IRR\": 45316.677918,\\n        \"ISK\": 151.102484,\\n        \"JEP\": 0.881838,\\n        \"JMD\": 163.527014,\\n        \"JOD\": 0.76119,\\n        \"JPY\": 143.646603,\\n        \"KES\": 139.24977,\\n        \"KGS\": 93.709936,\\n        \"KHR\": 4317.248206,\\n        \"KMF\": 491.891028,\\n        \"KPW\": 964.628057,\\n        \"KRW\": 1402.308663,\\n        \"KWD\": 0.328907,\\n        \"KYD\": 0.889609,\\n        \"KZT\": 487.067453,\\n        \"LAK\": 18024.240427,\\n        \"LBP\": 16023.363988,\\n        \"LKR\": 352.296381,\\n        \"LRD\": 171.188848,\\n        \"LSL\": 19.520081,\\n        \"LTL\": 3.165189,\\n        \"LVL\": 0.648412,\\n        \"LYD\": 5.178289,\\n        \"MAD\": 11.140236,\\n        \"MDL\": 19.979779,\\n        \"MGA\": 4642.698384,\\n        \"MKD\": 61.616426,\\n        \"MMK\": 2241.909314,\\n        \"MNT\": 3793.222674,\\n        \"MOP\": 8.624609,\\n        \"MRO\": 382.685897,\\n        \"MUR\": 50.542219,\\n        \"MVR\": 16.476079,\\n        \"MWK\": 1118.231644,\\n        \"MXN\": 20.240015,\\n        \"MYR\": 4.80982,\\n        \"MZN\": 67.640632,\\n        \"NAD\": 19.519977,\\n        \"NGN\": 493.654259,\\n        \"NIO\": 39.01803,\\n        \"NOK\": 11.383463,\\n        \"NPR\": 140.234842,\\n        \"NZD\": 1.722414,\\n        \"OMR\": 0.412665,\\n        \"PAB\": 1.07286,\\n        \"PEN\": 4.035059,\\n        \"PGK\": 3.761702,\\n        \"PHP\": 58.933123,\\n        \"PKR\": 300.865852,\\n        \"PLN\": 4.68507,\\n        \"PYG\": 7688.996407,\\n        \"QAR\": 3.903504,\\n        \"RON\": 4.925072,\\n        \"RSD\": 117.316715,\\n        \"RUB\": 80.696373,\\n        \"RWF\": 1162.487275,\\n        \"SAR\": 4.025238,\\n        \"SBD\": 8.790165,\\n        \"SCR\": 14.27953,\\n        \"SDG\": 637.274724,\\n        \"SEK\": 11.347007,\\n        \"SGD\": 1.442627,\\n        \"SHP\": 1.304295,\\n        \"SLE\": 22.209645,\\n        \"SLL\": 21171.008507,\\n        \"SOS\": 609.405967,\\n        \"SRD\": 36.410891,\\n        \"STD\": 22187.196747,\\n        \"SVC\": 9.34054,\\n        \"SYP\": 2692.475823,\\n        \"SZL\": 19.426744,\\n        \"THB\": 37.050861,\\n        \"TJS\": 11.657441,\\n        \"TMT\": 3.762544,\\n        \"TND\": 3.328389,\\n        \"TOP\": 2.524495,\\n        \"TRY\": 20.339964,\\n        \"TTD\": 7.248403,\\n        \"TWD\": 32.749464,\\n        \"TZS\": 2508.361954,\\n        \"UAH\": 39.423697,\\n        \"UGX\": 3970.054708,\\n        \"USD\": 1.07195,\\n        \"UYU\": 41.844298,\\n        \"UZS\": 12185.559069,\\n        \"VEF\": 2582256.16762,\\n        \"VES\": 25.850857,\\n        \"VND\": 25281.936199,\\n        \"VUV\": 128.425375,\\n        \"WST\": 2.952372,\\n        \"XAF\": 656.670673,\\n        \"XAG\": 0.049486,\\n        \"XAU\": 0.000563,\\n        \"XCD\": 2.896998,\\n        \"XDR\": 0.804321,\\n        \"XOF\": 656.670673,\\n        \"XPF\": 119.495649,\\n        \"YER\": 268.312421,\\n        \"ZAR\": 19.559601,\\n        \"ZMK\": 9648.83557,\\n        \"ZMW\": 21.689557,\\n        \"ZWL\": 345.167401\\n    }\\n}\\n'\n"
     ]
    }
   ],
   "source": [
    "# Rememeber to replace XXXXXXX with the actual API key\n",
    "url = \"https://api.apilayer.com/exchangerates_data/latest?base=EUR&apikey=eb2Y4WpCO92E3kjr0bgdbtTKb7wahNid\"\n",
    "r = requests.get(url)\n",
    "print(r.content)"
   ]
  },
  {
   "cell_type": "markdown",
   "metadata": {},
   "source": [
    "### Save as DataFrame\n",
    "\n",
    "Using the data gathered turn it into a `pandas` dataframe. The dataframe should have the `Currency` as the index and `Rate` as their columns. Drop unnecessary columns."
   ]
  },
  {
   "cell_type": "code",
   "execution_count": 3,
   "metadata": {},
   "outputs": [],
   "source": [
    "# Parse data to JSON\n",
    "data = json.loads(r.content)\n",
    "# Turn the data into a dataframe\n",
    "df = pd.DataFrame(data)"
   ]
  },
  {
   "cell_type": "code",
   "execution_count": 4,
   "metadata": {},
   "outputs": [
    {
     "data": {
      "text/html": [
       "<div>\n",
       "<style scoped>\n",
       "    .dataframe tbody tr th:only-of-type {\n",
       "        vertical-align: middle;\n",
       "    }\n",
       "\n",
       "    .dataframe tbody tr th {\n",
       "        vertical-align: top;\n",
       "    }\n",
       "\n",
       "    .dataframe thead th {\n",
       "        text-align: right;\n",
       "    }\n",
       "</style>\n",
       "<table border=\"1\" class=\"dataframe\">\n",
       "  <thead>\n",
       "    <tr style=\"text-align: right;\">\n",
       "      <th></th>\n",
       "      <th>rates</th>\n",
       "    </tr>\n",
       "  </thead>\n",
       "  <tbody>\n",
       "    <tr>\n",
       "      <th>AED</th>\n",
       "      <td>3.936170</td>\n",
       "    </tr>\n",
       "    <tr>\n",
       "      <th>AFN</th>\n",
       "      <td>94.102439</td>\n",
       "    </tr>\n",
       "    <tr>\n",
       "      <th>ALL</th>\n",
       "      <td>114.053228</td>\n",
       "    </tr>\n",
       "    <tr>\n",
       "      <th>AMD</th>\n",
       "      <td>414.734737</td>\n",
       "    </tr>\n",
       "    <tr>\n",
       "      <th>ANG</th>\n",
       "      <td>1.923434</td>\n",
       "    </tr>\n",
       "  </tbody>\n",
       "</table>\n",
       "</div>"
      ],
      "text/plain": [
       "          rates\n",
       "AED    3.936170\n",
       "AFN   94.102439\n",
       "ALL  114.053228\n",
       "AMD  414.734737\n",
       "ANG    1.923434"
      ]
     },
     "execution_count": 4,
     "metadata": {},
     "output_type": "execute_result"
    }
   ],
   "source": [
    "# Drop unnescessary columns\n",
    "# df.drop(['success', 'timestamp', 'base', 'date'], axis=1, inplace=True)\n",
    "df = df[['rates']]\n",
    "df.head()"
   ]
  },
  {
   "cell_type": "markdown",
   "metadata": {},
   "source": [
    "### Load the Data\n",
    "\n",
    "Save the DataFrame as a CSV file `exchange_rates_1.csv`.\n"
   ]
  },
  {
   "cell_type": "code",
   "execution_count": 5,
   "metadata": {},
   "outputs": [],
   "source": [
    "# Save the Dataframe\n",
    "df.to_csv('exchange_rates_1.csv')"
   ]
  },
  {
   "cell_type": "markdown",
   "metadata": {},
   "source": [
    "Copyright © 2020 IBM Corporation. This notebook and its source code are released under the terms of the [MIT License](https://cognitiveclass.ai/mit-license?utm_medium=Exinfluencer&utm_source=Exinfluencer&utm_content=000026UJ&utm_term=10006555&utm_id=NA-SkillsNetwork-Channel-SkillsNetworkCoursesIBMDeveloperSkillsNetworkPY0221ENSkillsNetwork23455645-2022-01-01&cm_mmc=Email_Newsletter-\\_-Developer_Ed%2BTech-\\_-WW_WW-\\_-SkillsNetwork-Courses-IBM-DA0321EN-SkillsNetwork-21426264&cm_mmca1=000026UJ&cm_mmca2=10006555&cm_mmca3=M12345678&cvosrc=email.Newsletter.M12345678&cvo_campaign=000026UJ).\n"
   ]
  }
 ],
 "metadata": {
  "kernelspec": {
   "display_name": "Python 3 (ipykernel)",
   "language": "python",
   "name": "python3"
  },
  "language_info": {
   "codemirror_mode": {
    "name": "ipython",
    "version": 3
   },
   "file_extension": ".py",
   "mimetype": "text/x-python",
   "name": "python",
   "nbconvert_exporter": "python",
   "pygments_lexer": "ipython3",
   "version": "3.9.7"
  }
 },
 "nbformat": 4,
 "nbformat_minor": 4
}
