{
 "cells": [
  {
   "cell_type": "markdown",
   "metadata": {},
   "source": [
    "# Data Engineering - Extract API Data\n",
    "\n",
    "Extract data from the Exchange Rate Data API"
   ]
  },
  {
   "cell_type": "markdown",
   "metadata": {},
   "source": [
    "## Objectives\n",
    "\n",
    "*   Collect exchange rate data using an API\n",
    "*   Store the data as a CSV\n"
   ]
  },
  {
   "cell_type": "markdown",
   "metadata": {},
   "source": [
    "## Imports\n",
    "\n",
    "Importing libraries here.\n"
   ]
  },
  {
   "cell_type": "code",
   "execution_count": 14,
   "metadata": {},
   "outputs": [],
   "source": [
    "import requests\n",
    "import pandas as pd\n",
    "import json"
   ]
  },
  {
   "cell_type": "markdown",
   "metadata": {},
   "source": [
    "## Extract Data Using an API\n"
   ]
  },
  {
   "cell_type": "markdown",
   "metadata": {},
   "source": [
    "Using ExchangeRate-API we will extract currency exchange rate data. Use the below steps to get the access key and to get the data.\n",
    "\n",
    "1.  Open the url : [https://exchangeratesapi.io/](https://exchangeratesapi.io/?utm_medium=Exinfluencer&utm_source=Exinfluencer&utm_content=000026UJ&utm_term=10006555&utm_id=NA-SkillsNetwork-Channel-SkillsNetworkCoursesIBMDeveloperSkillsNetworkPY0221ENSkillsNetwork23455645-2022-01-01) and click on **Get Free API Key**.\n",
    "2.  Subscribe for Free plan and Sign-in with the Google Account.\n",
    "3.  Once the account is created you will be redirected to [https://apilayer.com](https://apilayer.com/?utm_medium=Exinfluencer&utm_source=Exinfluencer&utm_content=000026UJ&utm_term=10006555&utm_id=NA-SkillsNetwork-Channel-SkillsNetworkCoursesIBMDeveloperSkillsNetworkPY0221ENSkillsNetwork23455645-2022-01-01) website.\n",
    "4.  Now, click on the **user icon** and click **Account** as shown below:\n",
    "\n",
    "<img src=\"https://cf-courses-data.s3.us.cloud-object-storage.appdomain.cloud/IBMDeveloperSkillsNetwork-PY0221EN-SkillsNetwork/labs/module%206/Final%20Assignment/Images/account.png\"/>\n",
    "\n",
    "3.  Scroll down and you will get the API Key section. Copy the API key and use in the url.\n"
   ]
  },
  {
   "cell_type": "markdown",
   "metadata": {},
   "source": [
    "### Call the API\n",
    "\n",
    "Using the `requests` to library call the endpoint above and save the text."
   ]
  },
  {
   "cell_type": "code",
   "execution_count": 15,
   "metadata": {},
   "outputs": [
    {
     "name": "stdout",
     "output_type": "stream",
     "text": [
      "b'{\\n    \"success\": true,\\n    \"timestamp\": 1678795203,\\n    \"base\": \"EUR\",\\n    \"date\": \"2023-03-14\",\\n    \"rates\": {\\n        \"AED\": 3.937908,\\n        \"AFN\": 94.143731,\\n        \"ALL\": 114.103274,\\n        \"AMD\": 414.916723,\\n        \"ANG\": 1.924278,\\n        \"AOA\": 543.068337,\\n        \"ARS\": 215.123628,\\n        \"AUD\": 1.608391,\\n        \"AWG\": 1.929942,\\n        \"AZN\": 1.8249,\\n        \"BAM\": 1.958257,\\n        \"BBD\": 2.139304,\\n        \"BDT\": 112.621305,\\n        \"BGN\": 1.957771,\\n        \"BHD\": 0.404185,\\n        \"BIF\": 2218.880538,\\n        \"BMD\": 1.07219,\\n        \"BND\": 1.438338,\\n        \"BOB\": 7.383264,\\n        \"BRL\": 5.626744,\\n        \"BSD\": 1.067834,\\n        \"BTC\": 4.3215915e-05,\\n        \"BTN\": 87.665493,\\n        \"BWP\": 14.104565,\\n        \"BYN\": 2.695107,\\n        \"BYR\": 21014.929265,\\n        \"BZD\": 2.140806,\\n        \"CAD\": 1.468327,\\n        \"CDF\": 2197.989915,\\n        \"CHF\": 0.97762,\\n        \"CLF\": 0.031178,\\n        \"CLP\": 859.84318,\\n        \"CNY\": 7.372487,\\n        \"COP\": 5109.522725,\\n        \"CRC\": 585.106843,\\n        \"CUC\": 1.07219,\\n        \"CUP\": 28.413042,\\n        \"CVE\": 110.397485,\\n        \"CZK\": 23.817636,\\n        \"DJF\": 190.05669,\\n        \"DKK\": 7.444327,\\n        \"DOP\": 58.600793,\\n        \"DZD\": 145.82105,\\n        \"EGP\": 33.149117,\\n        \"ERN\": 16.082854,\\n        \"ETB\": 57.44534,\\n        \"EUR\": 1,\\n        \"FJD\": 2.376404,\\n        \"FKP\": 0.882036,\\n        \"GBP\": 0.881276,\\n        \"GEL\": 2.76606,\\n        \"GGP\": 0.882036,\\n        \"GHS\": 13.133356,\\n        \"GIP\": 0.882036,\\n        \"GMD\": 65.885999,\\n        \"GNF\": 9188.099763,\\n        \"GTQ\": 8.335381,\\n        \"GYD\": 225.190444,\\n        \"HKD\": 8.413386,\\n        \"HNL\": 26.31377,\\n        \"HRK\": 7.524925,\\n        \"HTG\": 164.188349,\\n        \"HUF\": 392.862332,\\n        \"IDR\": 16485.515085,\\n        \"ILS\": 3.892083,\\n        \"IMP\": 0.882036,\\n        \"INR\": 88.422996,\\n        \"IQD\": 1558.340704,\\n        \"IRR\": 45326.843461,\\n        \"ISK\": 151.275576,\\n        \"JEP\": 0.882036,\\n        \"JMD\": 163.563697,\\n        \"JOD\": 0.76095,\\n        \"JPY\": 143.846136,\\n        \"KES\": 138.954589,\\n        \"KGS\": 93.730765,\\n        \"KHR\": 4318.216659,\\n        \"KMF\": 492.001349,\\n        \"KPW\": 964.844444,\\n        \"KRW\": 1401.941978,\\n        \"KWD\": 0.328905,\\n        \"KYD\": 0.889808,\\n        \"KZT\": 487.176713,\\n        \"LAK\": 18028.283656,\\n        \"LBP\": 16026.958376,\\n        \"LKR\": 352.375409,\\n        \"LRD\": 171.233138,\\n        \"LSL\": 19.524392,\\n        \"LTL\": 3.165899,\\n        \"LVL\": 0.648557,\\n        \"LYD\": 5.17945,\\n        \"MAD\": 11.14274,\\n        \"MDL\": 19.98426,\\n        \"MGA\": 4643.739842,\\n        \"MKD\": 61.630248,\\n        \"MMK\": 2242.412223,\\n        \"MNT\": 3794.073576,\\n        \"MOP\": 8.626543,\\n        \"MRO\": 382.771741,\\n        \"MUR\": 50.564238,\\n        \"MVR\": 16.479876,\\n        \"MWK\": 1118.482488,\\n        \"MXN\": 20.178267,\\n        \"MYR\": 4.810891,\\n        \"MZN\": 67.655521,\\n        \"NAD\": 19.524678,\\n        \"NGN\": 493.765393,\\n        \"NIO\": 39.026783,\\n        \"NOK\": 11.367265,\\n        \"NPR\": 140.266299,\\n        \"NZD\": 1.722297,\\n        \"OMR\": 0.412791,\\n        \"PAB\": 1.073101,\\n        \"PEN\": 4.035964,\\n        \"PGK\": 3.762545,\\n        \"PHP\": 58.950631,\\n        \"PKR\": 300.933342,\\n        \"PLN\": 4.689063,\\n        \"PYG\": 7690.721216,\\n        \"QAR\": 3.904381,\\n        \"RON\": 4.924461,\\n        \"RSD\": 117.324457,\\n        \"RUB\": 80.714532,\\n        \"RWF\": 1162.748046,\\n        \"SAR\": 4.025827,\\n        \"SBD\": 8.792137,\\n        \"SCR\": 14.283737,\\n        \"SDG\": 637.410586,\\n        \"SEK\": 11.328698,\\n        \"SGD\": 1.442278,\\n        \"SHP\": 1.304588,\\n        \"SLE\": 22.214627,\\n        \"SLL\": 21175.757709,\\n        \"SOS\": 609.539994,\\n        \"SRD\": 36.41911,\\n        \"STD\": 22192.173817,\\n        \"SVC\": 9.342635,\\n        \"SYP\": 2693.079804,\\n        \"SZL\": 19.431102,\\n        \"THB\": 37.021628,\\n        \"TJS\": 11.660056,\\n        \"TMT\": 3.763388,\\n        \"TND\": 3.329143,\\n        \"TOP\": 2.525061,\\n        \"TRY\": 20.344097,\\n        \"TTD\": 7.250029,\\n        \"TWD\": 32.747158,\\n        \"TZS\": 2508.925003,\\n        \"UAH\": 39.43254,\\n        \"UGX\": 3970.945278,\\n        \"USD\": 1.07219,\\n        \"UYU\": 41.853685,\\n        \"UZS\": 12188.292554,\\n        \"VEF\": 2582835.423711,\\n        \"VES\": 25.856656,\\n        \"VND\": 25287.607486,\\n        \"VUV\": 128.454184,\\n        \"WST\": 2.953034,\\n        \"XAF\": 656.817978,\\n        \"XAG\": 0.049557,\\n        \"XAU\": 0.000563,\\n        \"XCD\": 2.897648,\\n        \"XDR\": 0.804502,\\n        \"XOF\": 656.817978,\\n        \"XPF\": 119.522438,\\n        \"YER\": 268.37131,\\n        \"ZAR\": 19.492934,\\n        \"ZMK\": 9651.001585,\\n        \"ZMW\": 21.694422,\\n        \"ZWL\": 345.244829\\n    }\\n}\\n'\n"
     ]
    }
   ],
   "source": [
    "# Rememeber to replace XXXXX with the actual API key\n",
    "url = \"https://api.apilayer.com/exchangerates_data/latest?base=EUR&apikey=XXXXX\"\n",
    "r = requests.get(url)\n",
    "print(r.content)"
   ]
  },
  {
   "cell_type": "markdown",
   "metadata": {},
   "source": [
    "### Save as DataFrame\n",
    "\n",
    "Using the data gathered turn it into a `pandas` dataframe. The dataframe should have the `Currency` as the index and `Rate` as their columns. Drop unnecessary columns."
   ]
  },
  {
   "cell_type": "code",
   "execution_count": 16,
   "metadata": {},
   "outputs": [],
   "source": [
    "# Parse data to JSON\n",
    "data = json.loads(r.content)\n",
    "# Turn the data into a dataframe\n",
    "df = pd.DataFrame(data)"
   ]
  },
  {
   "cell_type": "code",
   "execution_count": 17,
   "metadata": {},
   "outputs": [
    {
     "data": {
      "text/html": [
       "<div>\n",
       "<style scoped>\n",
       "    .dataframe tbody tr th:only-of-type {\n",
       "        vertical-align: middle;\n",
       "    }\n",
       "\n",
       "    .dataframe tbody tr th {\n",
       "        vertical-align: top;\n",
       "    }\n",
       "\n",
       "    .dataframe thead th {\n",
       "        text-align: right;\n",
       "    }\n",
       "</style>\n",
       "<table border=\"1\" class=\"dataframe\">\n",
       "  <thead>\n",
       "    <tr style=\"text-align: right;\">\n",
       "      <th></th>\n",
       "      <th>rates</th>\n",
       "    </tr>\n",
       "  </thead>\n",
       "  <tbody>\n",
       "    <tr>\n",
       "      <th>AED</th>\n",
       "      <td>3.937908</td>\n",
       "    </tr>\n",
       "    <tr>\n",
       "      <th>AFN</th>\n",
       "      <td>94.143731</td>\n",
       "    </tr>\n",
       "    <tr>\n",
       "      <th>ALL</th>\n",
       "      <td>114.103274</td>\n",
       "    </tr>\n",
       "    <tr>\n",
       "      <th>AMD</th>\n",
       "      <td>414.916723</td>\n",
       "    </tr>\n",
       "    <tr>\n",
       "      <th>ANG</th>\n",
       "      <td>1.924278</td>\n",
       "    </tr>\n",
       "    <tr>\n",
       "      <th>...</th>\n",
       "      <td>...</td>\n",
       "    </tr>\n",
       "    <tr>\n",
       "      <th>YER</th>\n",
       "      <td>268.371310</td>\n",
       "    </tr>\n",
       "    <tr>\n",
       "      <th>ZAR</th>\n",
       "      <td>19.492934</td>\n",
       "    </tr>\n",
       "    <tr>\n",
       "      <th>ZMK</th>\n",
       "      <td>9651.001585</td>\n",
       "    </tr>\n",
       "    <tr>\n",
       "      <th>ZMW</th>\n",
       "      <td>21.694422</td>\n",
       "    </tr>\n",
       "    <tr>\n",
       "      <th>ZWL</th>\n",
       "      <td>345.244829</td>\n",
       "    </tr>\n",
       "  </tbody>\n",
       "</table>\n",
       "<p>170 rows × 1 columns</p>\n",
       "</div>"
      ],
      "text/plain": [
       "           rates\n",
       "AED     3.937908\n",
       "AFN    94.143731\n",
       "ALL   114.103274\n",
       "AMD   414.916723\n",
       "ANG     1.924278\n",
       "..           ...\n",
       "YER   268.371310\n",
       "ZAR    19.492934\n",
       "ZMK  9651.001585\n",
       "ZMW    21.694422\n",
       "ZWL   345.244829\n",
       "\n",
       "[170 rows x 1 columns]"
      ]
     },
     "execution_count": 17,
     "metadata": {},
     "output_type": "execute_result"
    }
   ],
   "source": [
    "# Drop unnescessary columns\n",
    "# df.drop(['success', 'timestamp', 'base', 'date'], axis=1, inplace=True)\n",
    "df = df[['rates']]\n",
    "df"
   ]
  },
  {
   "cell_type": "markdown",
   "metadata": {},
   "source": [
    "### Load the Data\n",
    "\n",
    "Save the DataFrame as a CSV file `exchange_rates.csv`.\n"
   ]
  },
  {
   "cell_type": "code",
   "execution_count": 20,
   "metadata": {},
   "outputs": [],
   "source": [
    "# Save the Dataframe\n",
    "df.to_csv('exchange_rates.csv')"
   ]
  },
  {
   "cell_type": "markdown",
   "metadata": {},
   "source": [
    "Copyright © 2020 IBM Corporation. This notebook and its source code are released under the terms of the [MIT License](https://cognitiveclass.ai/mit-license?utm_medium=Exinfluencer&utm_source=Exinfluencer&utm_content=000026UJ&utm_term=10006555&utm_id=NA-SkillsNetwork-Channel-SkillsNetworkCoursesIBMDeveloperSkillsNetworkPY0221ENSkillsNetwork23455645-2022-01-01&cm_mmc=Email_Newsletter-\\_-Developer_Ed%2BTech-\\_-WW_WW-\\_-SkillsNetwork-Courses-IBM-DA0321EN-SkillsNetwork-21426264&cm_mmca1=000026UJ&cm_mmca2=10006555&cm_mmca3=M12345678&cvosrc=email.Newsletter.M12345678&cvo_campaign=000026UJ).\n"
   ]
  }
 ],
 "metadata": {
  "kernelspec": {
   "display_name": "Python 3 (ipykernel)",
   "language": "python",
   "name": "python3"
  },
  "language_info": {
   "codemirror_mode": {
    "name": "ipython",
    "version": 3
   },
   "file_extension": ".py",
   "mimetype": "text/x-python",
   "name": "python",
   "nbconvert_exporter": "python",
   "pygments_lexer": "ipython3",
   "version": "3.9.7"
  }
 },
 "nbformat": 4,
 "nbformat_minor": 4
}
